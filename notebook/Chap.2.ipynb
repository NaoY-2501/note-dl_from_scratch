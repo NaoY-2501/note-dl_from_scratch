{
 "cells": [
  {
   "cell_type": "markdown",
   "metadata": {},
   "source": [
    "## パーセプトロン\n",
    "\n",
    "### パーセプトロンとは\n",
    "\n",
    "- 複数の信号を入力し、ひとつの信号を出力する\n",
    "\n",
    "- 信号は「1か0」\n",
    "\n",
    "- 入力/出力するものを「ニューロン」「ノード」と呼ぶ\n",
    "\n",
    "- 入力信号は、**ニューロンに送られる際に固有の重みが乗算される**\n",
    "\n",
    "- **入力信号の総和がある限界値を超えた場合**にニューロンは**1**を出力する\n",
    "\n",
    "  - 「ニューロンが発火する」と表現する\n",
    "  \n",
    "  - この限界値を**閾値**と呼び、**θ**という記号で表す\n",
    "  \n",
    "- パーセプトロンは**複数ある入力信号のそれぞれに固有の重みを持つ**\n",
    "\n",
    "- 重みは各信号の重要性をコントロールする\n",
    "\n",
    "- **重みが大きいほど、その重みに対応する信号の重要性が高くなる**"
   ]
  },
  {
   "cell_type": "markdown",
   "metadata": {},
   "source": [
    "### 単純な論理回路\n",
    "\n",
    "#### ANDゲート\n",
    "\n",
    "<table>\n",
    "    <th>x1</th><th>x2</th><th>y</th>\n",
    "    <tr>\n",
    "    <td>0</td><td>0</td><td>0</td>\n",
    "    </tr>\n",
    "    <tr>\n",
    "    <td>1</td><td>0</td><td>0</td>\n",
    "    </tr>\n",
    "    <tr>\n",
    "    <td>0</td><td>1</td><td>0</td>\n",
    "    </tr>\n",
    "    <tr>\n",
    "    <td>1</td><td>1</td><td>1</td>\n",
    "    </tr>\n",
    "</table>\n",
    "\n",
    "ANDゲートの真理値表"
   ]
  },
  {
   "cell_type": "markdown",
   "metadata": {},
   "source": [
    "x1, x2からの入力が閾値を超えたときにニューロンが発火する\n",
    "\n",
    "****$w1x1 + w2x2 > θ$**** の*w1*, *w2*, *θ*を考える\n",
    "\n",
    "- ****$(w1, w2, θ) = (0.5, 0.5, 0,7)$****\n",
    "\n",
    "- ****$(w1, w2, θ) = (1.0, 1.0, 1.0)$****\n",
    "\n",
    "- ****$(w1, w2, θ) = (0.5, 0.5 , 0.8)$****\n",
    "\n",
    "など"
   ]
  },
  {
   "cell_type": "markdown",
   "metadata": {},
   "source": [
    "#### NANDゲート\n",
    "\n",
    "<table>\n",
    "    <th>x1</th><th>x2</th><th>y</th>\n",
    "    <tr>\n",
    "    <td>0</td><td>0</td><td>1</td>\n",
    "    </tr>\n",
    "    <tr>\n",
    "    <td>1</td><td>0</td><td>1</td>\n",
    "    </tr>\n",
    "    <tr>\n",
    "    <td>0</td><td>1</td><td>1</td>\n",
    "    </tr>\n",
    "    <tr>\n",
    "    <td>1</td><td>1</td><td>0</td>\n",
    "    </tr>\n",
    "</table>\n",
    "\n",
    "NANDゲートの真理値表"
   ]
  },
  {
   "cell_type": "markdown",
   "metadata": {},
   "source": [
    "****$w1x1 + w2x2 > θ$****の*w1*, *w2*, *θ*を考える\n",
    "\n",
    "- ****$(w1, w2, θ)= (-0.5, -0.5, -0.7)$****\n",
    "\n",
    "- ****$(w1, w2, θ) = (-1.0, -1.0, -1.5)$****\n",
    "\n",
    "など"
   ]
  },
  {
   "cell_type": "markdown",
   "metadata": {},
   "source": [
    "#### ORゲート\n",
    "\n",
    "<table>\n",
    "    <th>x1</th><th>x2</th><th>y</th>\n",
    "    <tr>\n",
    "    <td>0</td><td>0</td><td>0</td>\n",
    "    </tr>\n",
    "    <tr>\n",
    "    <td>1</td><td>0</td><td>1</td>\n",
    "    </tr>\n",
    "    <tr>\n",
    "    <td>0</td><td>1</td><td>1</td>\n",
    "    </tr>\n",
    "    <tr>\n",
    "    <td>1</td><td>1</td><td>1</td>\n",
    "    </tr>\n",
    "</table>\n",
    "\n",
    "ORゲートの真理値表"
   ]
  },
  {
   "cell_type": "markdown",
   "metadata": {},
   "source": [
    "****$w1x1 + w2x2 > θ$****の*w1, w2, θ*を考える\n",
    "\n",
    "- ****$(w1, w2, θ) = (1.5, 1.5, 1.0)$****\n",
    "\n",
    "など"
   ]
  },
  {
   "cell_type": "markdown",
   "metadata": {},
   "source": [
    "### パーセプトロンの実装\n",
    "\n",
    "#### 簡単な実装"
   ]
  },
  {
   "cell_type": "code",
   "execution_count": 4,
   "metadata": {},
   "outputs": [],
   "source": [
    "def AND(x1, x2):\n",
    "    w1, w2, theta = 0.5, 0.5, 0.7\n",
    "    tmp = x1*w1 + x2*w2\n",
    "    if tmp <= theta:\n",
    "        return 0\n",
    "    elif tmp > theta:\n",
    "        return 1"
   ]
  },
  {
   "cell_type": "code",
   "execution_count": 6,
   "metadata": {},
   "outputs": [
    {
     "data": {
      "text/plain": [
       "0"
      ]
     },
     "execution_count": 6,
     "metadata": {},
     "output_type": "execute_result"
    }
   ],
   "source": [
    "AND(0, 0)"
   ]
  },
  {
   "cell_type": "code",
   "execution_count": 7,
   "metadata": {},
   "outputs": [
    {
     "data": {
      "text/plain": [
       "0"
      ]
     },
     "execution_count": 7,
     "metadata": {},
     "output_type": "execute_result"
    }
   ],
   "source": [
    "AND(1, 0)"
   ]
  },
  {
   "cell_type": "code",
   "execution_count": 8,
   "metadata": {},
   "outputs": [
    {
     "data": {
      "text/plain": [
       "0"
      ]
     },
     "execution_count": 8,
     "metadata": {},
     "output_type": "execute_result"
    }
   ],
   "source": [
    "AND(0, 1)"
   ]
  },
  {
   "cell_type": "code",
   "execution_count": 9,
   "metadata": {},
   "outputs": [
    {
     "data": {
      "text/plain": [
       "1"
      ]
     },
     "execution_count": 9,
     "metadata": {},
     "output_type": "execute_result"
    }
   ],
   "source": [
    "AND(1, 1)"
   ]
  },
  {
   "cell_type": "code",
   "execution_count": 13,
   "metadata": {},
   "outputs": [],
   "source": [
    "# paramの値によってどのゲートにもなれる関数\n",
    "def gate(x1, x2, param):\n",
    "    w1 = param['w1']\n",
    "    w2 = param['w2']\n",
    "    theta = param['theta']\n",
    "    tmp = x1*w1 + x2*w2\n",
    "    if tmp <= theta:\n",
    "        return 0\n",
    "    elif tmp > theta:\n",
    "        return 1"
   ]
  },
  {
   "cell_type": "code",
   "execution_count": 19,
   "metadata": {},
   "outputs": [
    {
     "name": "stdout",
     "output_type": "stream",
     "text": [
      "1\n"
     ]
    }
   ],
   "source": [
    "# ORゲート\n",
    "param = {'w1':1.5, 'w2':1.5, 'theta':1.0}\n",
    "print(gate(1, 1, param))"
   ]
  },
  {
   "cell_type": "code",
   "execution_count": 22,
   "metadata": {},
   "outputs": [
    {
     "name": "stdout",
     "output_type": "stream",
     "text": [
      "0\n",
      "1\n"
     ]
    }
   ],
   "source": [
    "# ANDゲート\n",
    "param = {'w1':1.0, 'w2':1.0, 'theta':1.0}\n",
    "print(gate(0, 1, param))\n",
    "print(gate(1, 1, param))"
   ]
  },
  {
   "cell_type": "markdown",
   "metadata": {},
   "source": [
    "### 重みとバイアスの導入\n",
    "\n",
    "\\begin{equation}\n",
    "y = \\left\\{\n",
    "\\begin{array}{}\n",
    "0  (b+w1x1 + w2x2 <= 0) \\\\\n",
    "1  (b+w1x1 + w2x2 > 0)\n",
    "\\end{array}\n",
    "\\right.\n",
    "\\end{equation}\n",
    "\n",
    "- *b*をバイアスと呼ぶ"
   ]
  },
  {
   "cell_type": "code",
   "execution_count": 23,
   "metadata": {},
   "outputs": [
    {
     "data": {
      "text/plain": [
       "array([0. , 0.5])"
      ]
     },
     "execution_count": 23,
     "metadata": {},
     "output_type": "execute_result"
    }
   ],
   "source": [
    "import numpy as np\n",
    "\n",
    "# 入力\n",
    "x = np.array([0, 1])\n",
    "# 重み\n",
    "w = np.array([0.5, 0.5])\n",
    "# バイアス\n",
    "b = -0.7\n",
    "\n",
    "w*x"
   ]
  },
  {
   "cell_type": "code",
   "execution_count": 24,
   "metadata": {},
   "outputs": [
    {
     "data": {
      "text/plain": [
       "0.5"
      ]
     },
     "execution_count": 24,
     "metadata": {},
     "output_type": "execute_result"
    }
   ],
   "source": [
    "np.sum(w*x)"
   ]
  },
  {
   "cell_type": "code",
   "execution_count": 25,
   "metadata": {},
   "outputs": [
    {
     "data": {
      "text/plain": [
       "-0.19999999999999996"
      ]
     },
     "execution_count": 25,
     "metadata": {},
     "output_type": "execute_result"
    }
   ],
   "source": [
    "np.sum(w*x)+b"
   ]
  },
  {
   "cell_type": "markdown",
   "metadata": {},
   "source": [
    "#### 重みとバイアスによる実装"
   ]
  },
  {
   "cell_type": "code",
   "execution_count": 41,
   "metadata": {},
   "outputs": [],
   "source": [
    "def AND(x1, x2):\n",
    "    # 入力\n",
    "    x = np.array([x1, x2])\n",
    "    # 重み\n",
    "    w = np.array([0.5, 0.5])\n",
    "    # バイアス\n",
    "    b = -0.7\n",
    "    tmp = np.sum(w*x)+b\n",
    "    if tmp <= 0:\n",
    "        return 0\n",
    "    else:\n",
    "        return 1"
   ]
  },
  {
   "cell_type": "code",
   "execution_count": 42,
   "metadata": {},
   "outputs": [
    {
     "data": {
      "text/plain": [
       "0"
      ]
     },
     "execution_count": 42,
     "metadata": {},
     "output_type": "execute_result"
    }
   ],
   "source": [
    "AND(0, 1)"
   ]
  },
  {
   "cell_type": "code",
   "execution_count": 43,
   "metadata": {},
   "outputs": [
    {
     "data": {
      "text/plain": [
       "1"
      ]
     },
     "execution_count": 43,
     "metadata": {},
     "output_type": "execute_result"
    }
   ],
   "source": [
    "AND(1, 1)"
   ]
  },
  {
   "cell_type": "code",
   "execution_count": 44,
   "metadata": {},
   "outputs": [
    {
     "data": {
      "text/plain": [
       "0"
      ]
     },
     "execution_count": 44,
     "metadata": {},
     "output_type": "execute_result"
    }
   ],
   "source": [
    "AND(0, 0)"
   ]
  },
  {
   "cell_type": "markdown",
   "metadata": {},
   "source": [
    "- バイアスは、**発火のしやすさをコントロールする**パラメータ"
   ]
  },
  {
   "cell_type": "code",
   "execution_count": 38,
   "metadata": {},
   "outputs": [],
   "source": [
    "# バイアスが可変なANDゲート\n",
    "def AND_bias(x1, x2, b):\n",
    "    # 入力\n",
    "    x = np.array([x1, x2])\n",
    "    # 重み\n",
    "    w = np.array([0.5, 0.5])\n",
    "    # バイアス\n",
    "    b = b\n",
    "    tmp = np.sum(w*x)+b\n",
    "    if tmp <= 0:\n",
    "        return 0\n",
    "    else:\n",
    "        return 1"
   ]
  },
  {
   "cell_type": "code",
   "execution_count": 39,
   "metadata": {},
   "outputs": [
    {
     "data": {
      "text/plain": [
       "1"
      ]
     },
     "execution_count": 39,
     "metadata": {},
     "output_type": "execute_result"
    }
   ],
   "source": [
    "AND_bias(1, 1, 0.1)"
   ]
  },
  {
   "cell_type": "code",
   "execution_count": 40,
   "metadata": {},
   "outputs": [
    {
     "data": {
      "text/plain": [
       "0"
      ]
     },
     "execution_count": 40,
     "metadata": {},
     "output_type": "execute_result"
    }
   ],
   "source": [
    "AND_bias(1, 1, -20)"
   ]
  },
  {
   "cell_type": "code",
   "execution_count": 49,
   "metadata": {},
   "outputs": [],
   "source": [
    "def NAND(x1, x2):\n",
    "    x = np.array([x1, x2])\n",
    "    # 重みとバイアスだけがANDと違う\n",
    "    w = np.array([-0.5, -0.5])\n",
    "    b = 0.7\n",
    "    tmp = np.sum(w*x)+b\n",
    "    if tmp <= 0:\n",
    "        return 0\n",
    "    else:\n",
    "        return 1"
   ]
  },
  {
   "cell_type": "code",
   "execution_count": 50,
   "metadata": {},
   "outputs": [
    {
     "data": {
      "text/plain": [
       "0"
      ]
     },
     "execution_count": 50,
     "metadata": {},
     "output_type": "execute_result"
    }
   ],
   "source": [
    "NAND(1, 1)"
   ]
  },
  {
   "cell_type": "code",
   "execution_count": 51,
   "metadata": {},
   "outputs": [
    {
     "data": {
      "text/plain": [
       "1"
      ]
     },
     "execution_count": 51,
     "metadata": {},
     "output_type": "execute_result"
    }
   ],
   "source": [
    "NAND(1, 0)"
   ]
  },
  {
   "cell_type": "code",
   "execution_count": 52,
   "metadata": {},
   "outputs": [
    {
     "data": {
      "text/plain": [
       "1"
      ]
     },
     "execution_count": 52,
     "metadata": {},
     "output_type": "execute_result"
    }
   ],
   "source": [
    "NAND(0, 0)"
   ]
  },
  {
   "cell_type": "code",
   "execution_count": 53,
   "metadata": {},
   "outputs": [],
   "source": [
    "def OR(x1, x2):\n",
    "    x = np.array([x1, x2])\n",
    "    w = np.array([0.5, 0.5])\n",
    "    b = -0.2\n",
    "    tmp = np.sum(w*x)+b\n",
    "    if tmp <= 0:\n",
    "        return 0\n",
    "    else:\n",
    "        return 1"
   ]
  },
  {
   "cell_type": "code",
   "execution_count": 54,
   "metadata": {},
   "outputs": [
    {
     "data": {
      "text/plain": [
       "1"
      ]
     },
     "execution_count": 54,
     "metadata": {},
     "output_type": "execute_result"
    }
   ],
   "source": [
    "OR(1, 0)"
   ]
  },
  {
   "cell_type": "code",
   "execution_count": 55,
   "metadata": {},
   "outputs": [
    {
     "data": {
      "text/plain": [
       "1"
      ]
     },
     "execution_count": 55,
     "metadata": {},
     "output_type": "execute_result"
    }
   ],
   "source": [
    "OR(1, 1)"
   ]
  },
  {
   "cell_type": "code",
   "execution_count": 56,
   "metadata": {},
   "outputs": [
    {
     "data": {
      "text/plain": [
       "0"
      ]
     },
     "execution_count": 56,
     "metadata": {},
     "output_type": "execute_result"
    }
   ],
   "source": [
    "OR(0, 0)"
   ]
  },
  {
   "cell_type": "markdown",
   "metadata": {},
   "source": [
    "AND, NAND, ORゲートの違いは、重みとバイアスの値のみ"
   ]
  },
  {
   "cell_type": "markdown",
   "metadata": {},
   "source": [
    "#### XORゲート\n",
    "\n",
    "<table>\n",
    "    <th>x1</th><th>x2</th><th>y</th>\n",
    "    <tr>\n",
    "    <td>0</td><td>0</td><td>0</td>\n",
    "    </tr>\n",
    "    <tr>\n",
    "    <td>1</td><td>0</td><td>1</td>\n",
    "    </tr>\n",
    "    <tr>\n",
    "    <td>0</td><td>1</td><td>1</td>\n",
    "    </tr>\n",
    "    <tr>\n",
    "    <td>1</td><td>1</td><td>0</td>\n",
    "    </tr>\n",
    "</table>\n",
    "\n",
    "XORゲートの真理値表"
   ]
  },
  {
   "cell_type": "markdown",
   "metadata": {},
   "source": [
    "- 排他的論理和\n",
    "\n",
    "- XORゲートはここまでのパーセプトロンでは実装できない\n",
    "\n",
    "- **多層パーセプトロン**を使うと実装できる\n",
    "\n",
    "  - パーセプトロンは重ねることができる\n",
    "  \n",
    "  - 非線形の領域を分離できる\n",
    "  \n",
    " \n",
    " - XORはNAND, OR, ANDゲートの組み合わせで実装できる\n",
    " \n",
    "   - これまでに実装したそれぞれのゲートのパーセプトロンを使う"
   ]
  },
  {
   "cell_type": "markdown",
   "metadata": {},
   "source": [
    "### XORゲートの実装"
   ]
  },
  {
   "cell_type": "code",
   "execution_count": 57,
   "metadata": {
    "scrolled": true
   },
   "outputs": [],
   "source": [
    "def XOR(x1, x2):\n",
    "    s1 = NAND(x1, x2)\n",
    "    s2 = OR(x1, x2)\n",
    "    y = AND(s1, s2)\n",
    "    return y"
   ]
  },
  {
   "cell_type": "code",
   "execution_count": 58,
   "metadata": {},
   "outputs": [
    {
     "data": {
      "text/plain": [
       "0"
      ]
     },
     "execution_count": 58,
     "metadata": {},
     "output_type": "execute_result"
    }
   ],
   "source": [
    "XOR(0, 0)"
   ]
  },
  {
   "cell_type": "code",
   "execution_count": 59,
   "metadata": {},
   "outputs": [
    {
     "data": {
      "text/plain": [
       "1"
      ]
     },
     "execution_count": 59,
     "metadata": {},
     "output_type": "execute_result"
    }
   ],
   "source": [
    "XOR(1, 0)"
   ]
  },
  {
   "cell_type": "code",
   "execution_count": 60,
   "metadata": {},
   "outputs": [
    {
     "data": {
      "text/plain": [
       "1"
      ]
     },
     "execution_count": 60,
     "metadata": {},
     "output_type": "execute_result"
    }
   ],
   "source": [
    "XOR(0, 1)"
   ]
  },
  {
   "cell_type": "code",
   "execution_count": 61,
   "metadata": {},
   "outputs": [
    {
     "data": {
      "text/plain": [
       "0"
      ]
     },
     "execution_count": 61,
     "metadata": {},
     "output_type": "execute_result"
    }
   ],
   "source": [
    "XOR(1, 1)"
   ]
  },
  {
   "cell_type": "markdown",
   "metadata": {},
   "source": [
    "- *x1*, *x2*が第0層\n",
    "\n",
    "- *s1*, *s2*が第1層\n",
    "\n",
    "- *y*が第2層"
   ]
  },
  {
   "cell_type": "markdown",
   "metadata": {},
   "source": [
    "## 第2章のまとめ\n",
    "\n",
    "- パーセプトロンは入出力を備えたアルゴリズム。ある入力を与えたら、決まった値が出力される\n",
    "\n",
    "- パーセプトロンでは、「重み」と「バイアス」をパラメータとして設定する\n",
    "\n",
    "- パーセプトロンを用いれば、ANDやORゲートなどの論理回路を表現できる\n",
    "\n",
    "- XORゲートは単層のパーセプトロンでは表現できない\n",
    "\n",
    "- 2層のパーセプトロンを用いれば、XORゲートを表現できる\n",
    "\n",
    "- 単層のパーセプトロンでは線形領域しか表現できない\n",
    "\n",
    "- 多層のパーセプトロンでは非線形領域を表現できる\n",
    "\n",
    "- 多層のパーセプトロンは(理論上は)コンピュータを表現できる"
   ]
  },
  {
   "cell_type": "code",
   "execution_count": null,
   "metadata": {},
   "outputs": [],
   "source": []
  }
 ],
 "metadata": {
  "kernelspec": {
   "display_name": "Python 3",
   "language": "python",
   "name": "python3"
  },
  "language_info": {
   "codemirror_mode": {
    "name": "ipython",
    "version": 3
   },
   "file_extension": ".py",
   "mimetype": "text/x-python",
   "name": "python",
   "nbconvert_exporter": "python",
   "pygments_lexer": "ipython3",
   "version": "3.6.2"
  }
 },
 "nbformat": 4,
 "nbformat_minor": 2
}
