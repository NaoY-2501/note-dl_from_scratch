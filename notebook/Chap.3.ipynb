{
 "cells": [
  {
   "cell_type": "markdown",
   "metadata": {},
   "source": [
    "## ニューラルネットワーク\n",
    "\n",
    "\n",
    "- 適切な重みパラメータをデータから自動で学習できるという性質\n",
    "\n",
    "- 入力層 → 中間層 → 出力層\n",
    "\n",
    "- 中間層は「隠れ層」とも呼ぶ\n",
    "\n",
    "\n",
    "#### パーセプトロンの復習\n",
    "\n",
    "- *x1* と *x2* の2つの入力信号を受け取り、*y*を出力する\n",
    "\n",
    "\\begin{equation}\n",
    "y = \\left\\{\n",
    "\\begin{array}{}\n",
    "0 (b + w1x1 + w2x2 <= 0) \\\\\n",
    "1 (b + w1x1 + w2x2 > 0)\n",
    "\\end{array}\n",
    "\\right.\n",
    "\\end{equation}\n",
    "\n",
    "- *b* はバイアス。ニューロンの発火しやすさをコントロールするパラメータ。\n",
    "\n",
    "- *w1*, *w2*は重み。各信号の重要性をコントロールするパラメータ。\n",
    "\n",
    "- *h(x)* という関数を導入してパーセプトロンをシンプルな形に書き換える\n",
    "\n",
    "\n",
    "\\begin{equation}\n",
    "y=h(b + w1x1 + w2x2)\n",
    "\\end{equation}\n",
    "\n",
    "- この式は、入力信号の総和が *h(x)* という関数によって変換され、変換された値の出力が*y*になることを表している\n",
    "\n",
    "\\begin{equation}\n",
    "h(x) = \\left\\{\n",
    "\\begin{array}{}\n",
    "0 (x <= 0)  \\\\\n",
    "1 (x > 0)\n",
    "\\end{array}\n",
    "\\right.\n",
    "\\end{equation}\n",
    "\n",
    "- *h(x)* は入力が0以上のときに1を返し、そうでなければ0を返す"
   ]
  },
  {
   "cell_type": "markdown",
   "metadata": {},
   "source": [
    "#### 活性化関数\n",
    "\n",
    "- 入力信号の総和を出力信号に変換する関数: **活性化関数**(activation fucntion)\n",
    "\n",
    "- 活性化関数は入力信号の総和がどのように発火するかを決める役割を持つ\n",
    "\n",
    "  - ****$a = b + w1x1 + w2x2$****\n",
    "  \n",
    "  - ****$y = h(a)$****\n",
    "  \n",
    "  - ****$h()$****が**活性化関数**\n",
    "\n",
    "- 単純パーセプトロンの活性化関数は**ステップ関数**\n",
    "\n",
    "  - 閾値を境にして出力が切り替わる。階段関数とも呼ばれる\n",
    "  \n",
    "- 活性化関数をステップ関数から他の関数へ変更すると、ニューラルネットワークへと変わる\n",
    "\n",
    "### シグモイド関数\n",
    "\n",
    "- ****$h(x) = \\cfrac{1}{1 + exp(-x)}$****\n",
    "\n",
    "- ****$exp(-x)$****は****$e^{-x}$****を表す\n",
    "\n",
    "- *e*は[ネイピア数](https://ja.wikipedia.org/wiki/%E3%83%8D%E3%82%A4%E3%83%94%E3%82%A2%E6%95%B0)の 2.7182... の実数を表す"
   ]
  },
  {
   "cell_type": "markdown",
   "metadata": {},
   "source": [
    "### ステップ関数の実装"
   ]
  },
  {
   "cell_type": "code",
   "execution_count": 1,
   "metadata": {},
   "outputs": [],
   "source": [
    "def step_function(x):\n",
    "    if x > 0:\n",
    "        return 1\n",
    "    else:\n",
    "        return 0"
   ]
  },
  {
   "cell_type": "markdown",
   "metadata": {},
   "source": [
    "- この関数は実数は受け取ることができるが、numpy配列は引数に取れない\n",
    "\n",
    "- numpy配列に対応した実装"
   ]
  },
  {
   "cell_type": "code",
   "execution_count": 2,
   "metadata": {},
   "outputs": [],
   "source": [
    "def step_function(x):\n",
    "    y = x > 0\n",
    "    return y.astype(np.int)"
   ]
  },
  {
   "cell_type": "code",
   "execution_count": 3,
   "metadata": {},
   "outputs": [
    {
     "data": {
      "text/plain": [
       "array([-1.,  1.,  2.])"
      ]
     },
     "execution_count": 3,
     "metadata": {},
     "output_type": "execute_result"
    }
   ],
   "source": [
    "import numpy as np\n",
    "\n",
    "x = np.array([-1.0, 1.0, 2.0])\n",
    "x"
   ]
  },
  {
   "cell_type": "code",
   "execution_count": 4,
   "metadata": {},
   "outputs": [
    {
     "data": {
      "text/plain": [
       "array([False,  True,  True])"
      ]
     },
     "execution_count": 4,
     "metadata": {},
     "output_type": "execute_result"
    }
   ],
   "source": [
    "y = x > 0\n",
    "y"
   ]
  },
  {
   "cell_type": "code",
   "execution_count": 5,
   "metadata": {},
   "outputs": [
    {
     "data": {
      "text/plain": [
       "array([0, 1, 1])"
      ]
     },
     "execution_count": 5,
     "metadata": {},
     "output_type": "execute_result"
    }
   ],
   "source": [
    "y = y.astype(np.int)\n",
    "y"
   ]
  },
  {
   "cell_type": "markdown",
   "metadata": {},
   "source": [
    "```\n",
    "astype(np.int)\n",
    "```\n",
    "でbooleanをnp.int型に変換できる"
   ]
  },
  {
   "cell_type": "markdown",
   "metadata": {},
   "source": [
    "### ステップ関数のグラフ"
   ]
  },
  {
   "cell_type": "code",
   "execution_count": 7,
   "metadata": {},
   "outputs": [
    {
     "data": {
      "image/png": "[encoded data removed]",
      "text/plain": [
       "<matplotlib.figure.Figure at 0x1121930f0>"
      ]
     },
     "metadata": {},
     "output_type": "display_data"
    }
   ],
   "source": [
    "import numpy as np\n",
    "import matplotlib.pylab as plt\n",
    "\n",
    "def step_function(x):\n",
    "    return np.array(x > 0, dtype=np.int)\n",
    "\n",
    "x = np.arange(-5.0, 5.0, 0.1)\n",
    "y = step_function(x)\n",
    "plt.plot(x, y)\n",
    "plt.ylim(-0.1, 1.1)\n",
    "plt.show()"
   ]
  },
  {
   "cell_type": "markdown",
   "metadata": {},
   "source": [
    "### シグモイド関数の実装"
   ]
  },
  {
   "cell_type": "code",
   "execution_count": 8,
   "metadata": {},
   "outputs": [],
   "source": [
    "def sigmoid(x):\n",
    "    return 1/(1+np.exp(-x))"
   ]
  },
  {
   "cell_type": "code",
   "execution_count": 9,
   "metadata": {},
   "outputs": [
    {
     "data": {
      "text/plain": [
       "array([0.26894142, 0.73105858, 0.88079708])"
      ]
     },
     "execution_count": 9,
     "metadata": {},
     "output_type": "execute_result"
    }
   ],
   "source": [
    "x = np.array([-1.0, 1.0, 2.0])\n",
    "sigmoid(x)"
   ]
  },
  {
   "cell_type": "code",
   "execution_count": 10,
   "metadata": {},
   "outputs": [
    {
     "data": {
      "text/plain": [
       "array([2., 3., 4.])"
      ]
     },
     "execution_count": 10,
     "metadata": {},
     "output_type": "execute_result"
    }
   ],
   "source": [
    "t = np.array([1.0, 2.0, 3.0])\n",
    "1.0 + t"
   ]
  },
  {
   "cell_type": "code",
   "execution_count": 11,
   "metadata": {},
   "outputs": [
    {
     "data": {
      "text/plain": [
       "array([1.        , 0.5       , 0.33333333])"
      ]
     },
     "execution_count": 11,
     "metadata": {},
     "output_type": "execute_result"
    }
   ],
   "source": [
    "1.0/t"
   ]
  },
  {
   "cell_type": "code",
   "execution_count": 12,
   "metadata": {},
   "outputs": [
    {
     "data": {
      "image/png": "[encoded data removed]",
      "text/plain": [
       "<matplotlib.figure.Figure at 0x113253470>"
      ]
     },
     "metadata": {},
     "output_type": "display_data"
    }
   ],
   "source": [
    "x = np.arange(-5.0, 5.0, 0.1)\n",
    "y = sigmoid(x)\n",
    "\n",
    "plt.plot(x, y)\n",
    "plt.ylim(-0.1, 1.1)\n",
    "plt.show()"
   ]
  },
  {
   "cell_type": "code",
   "execution_count": 13,
   "metadata": {},
   "outputs": [
    {
     "data": {
      "image/png": "[encoded data removed]",
      "text/plain": [
       "<matplotlib.figure.Figure at 0x11325a5c0>"
      ]
     },
     "metadata": {},
     "output_type": "display_data"
    }
   ],
   "source": [
    "x1 = np.arange(-5.0, 5.0, 0.1)\n",
    "y1 = sigmoid(x1)\n",
    "\n",
    "plt.plot(x1, y1)\n",
    "\n",
    "x2 = np.arange(-5.0, 5.0, 0.1)\n",
    "y2 = step_function(x)\n",
    "plt.plot(x2, y2, linestyle='--')\n",
    "plt.ylim(-0.1, 1.1)\n",
    "plt.show()"
   ]
  },
  {
   "cell_type": "markdown",
   "metadata": {},
   "source": [
    "- シグモイド関数は出力が入力に対して滑らかに変化していることがわかる\n",
    "\n",
    "- ステップ関数・シグモイド関数の共通点\n",
    "\n",
    "  - 入力がどんなに大きくなっても、出力は1以内に押し込められる\n",
    "  \n",
    "  - 非線形関数である"
   ]
  },
  {
   "cell_type": "markdown",
   "metadata": {},
   "source": [
    "### ReLU関数\n",
    "\n",
    "- ReLU (Rectified Linear Unit)\n",
    "\n",
    "- 入力が0を超えていれば、その入力をそのまま出力する。\n",
    "\n",
    "- 0以下ならば0を出力する\n",
    "\n",
    "ReLU関数の数式\n",
    "\n",
    "\\begin{equation}\n",
    "h(x) = \\left\\{\n",
    "\\begin{array}{}\n",
    "x (x > 0)\\\\\n",
    "0 (x <= 0)\n",
    "\\end{array}\n",
    "\\right.\n",
    "\\end{equation}"
   ]
  },
  {
   "cell_type": "code",
   "execution_count": 14,
   "metadata": {},
   "outputs": [],
   "source": [
    "def relu(x):\n",
    "    return np.maximum(0, x)"
   ]
  },
  {
   "cell_type": "code",
   "execution_count": 15,
   "metadata": {},
   "outputs": [
    {
     "data": {
      "image/png": "[encoded data removed]",
      "text/plain": [
       "<matplotlib.figure.Figure at 0x11325a2b0>"
      ]
     },
     "metadata": {},
     "output_type": "display_data"
    }
   ],
   "source": [
    "x = np.arange(-5.0, 5.0, 0.1)\n",
    "\n",
    "y1 = sigmoid(x)\n",
    "plt.plot(x, y1, linestyle='--')\n",
    "\n",
    "y2 = step_function(x)\n",
    "plt.plot(x, y2, linestyle='--')\n",
    "\n",
    "y3 = relu(x)\n",
    "plt.plot(x, y3)\n",
    "\n",
    "plt.ylim(-0.1, 1.1)\n",
    "plt.show()"
   ]
  },
  {
   "cell_type": "markdown",
   "metadata": {},
   "source": [
    "### ニューラルネットワークの実装"
   ]
  },
  {
   "cell_type": "code",
   "execution_count": 16,
   "metadata": {},
   "outputs": [
    {
     "name": "stdout",
     "output_type": "stream",
     "text": [
      "[0.31682708 0.69627909]\n"
     ]
    }
   ],
   "source": [
    "import numpy as np\n",
    "\n",
    "def sigmoid(x):\n",
    "    \"\"\"\n",
    "    シグモイド関数\n",
    "    \"\"\"\n",
    "    return 1/(1+np.exp(-x))\n",
    "\n",
    "def relu(x):\n",
    "    \"\"\"\n",
    "    ReLU関数\n",
    "    \"\"\"\n",
    "    return np.maximum(0, x)\n",
    "\n",
    "def init_network():\n",
    "    \"\"\"\n",
    "    重み・バイアスの作成\n",
    "    \"\"\"\n",
    "    network = {}\n",
    "    # 第一層\n",
    "    network['w1'] = np.array([[0.1, 0.3, 0.5], [0.2, 0.4, 0.6]])\n",
    "    network['b1'] = np.array([0.1, 0.2, 0.3])\n",
    "    # 第二層\n",
    "    network['w2'] = np.array([[0.1, 0.4], [0.2, 0.5], [0.3, 0.6]])\n",
    "    network['b2'] = np.array([0.1, 0.2])\n",
    "    # 第三層\n",
    "    network['w3'] = np.array([[0.1, 0.3], [0.2, 0.4]])\n",
    "    network['b3'] = np.array([0.1, 0.2])\n",
    "    \n",
    "    return network\n",
    "\n",
    "def identity_function(x):\n",
    "    \"\"\"\n",
    "    恒等関数。入力をそのまま出力する\n",
    "    \"\"\"\n",
    "    return x\n",
    "\n",
    "def forward(network, x):\n",
    "    \"\"\"\n",
    "    入力から出力方向への伝達処理\n",
    "    \"\"\"\n",
    "    w1, w2, w3 = network['w1'], network['w2'], network['w3']\n",
    "    b1, b2, b3 = network['b1'], network['b2'], network['b3']\n",
    "    \n",
    "    a1 = np.dot(x, w1) + b1\n",
    "    z1 = sigmoid(a1)\n",
    "    a2 = np.dot(z1, w2) + b2\n",
    "    z2 = sigmoid(a2)\n",
    "    a3 = np.dot(z2, w3) + b3\n",
    "    y = identity_function(a3)\n",
    "    return y\n",
    "\n",
    "network = init_network()\n",
    "x = np.array([1.0, 0.5])\n",
    "y = forward(network, x)\n",
    "print(y)\n",
    "\n",
    "# シグモイド関数: [0.31682708 0.69627909]\n",
    "# ReLU関数: [0.426 0.912]"
   ]
  },
  {
   "cell_type": "markdown",
   "metadata": {},
   "source": [
    "### 出力層で利用する活性化関数\n",
    "\n",
    "- 回帰問題では恒等関数\n",
    "\n",
    "  - 上記のidentity_function()が恒等関数にあたる\n",
    "  \n",
    "  - 入力をそのまま出力する\n",
    "\n",
    "- ２クラス分類ではシグモイド関数\n",
    "\n",
    "- 多クラス分類ではソフトマックス関数"
   ]
  },
  {
   "cell_type": "markdown",
   "metadata": {},
   "source": [
    "### ソフトマックス関数\n",
    "\n",
    "- 分類問題で使われる\n",
    "\n",
    "- *n*個の出力層があるとき、*k*番目の出力****$y_{k}$****を求める\n",
    "\n",
    "- 分子は入力信号****$a_{k}$****の指数関数、分母はすべての入力信号の指数関数の和\n",
    "\n",
    "-  ****$y_{k} = \\cfrac{exp(a_{k})}{\\sum_{i=1}^{n} + exp(a_{i})}$****"
   ]
  },
  {
   "cell_type": "markdown",
   "metadata": {},
   "source": [
    "### ソフトマックス関数の実装"
   ]
  },
  {
   "cell_type": "code",
   "execution_count": 17,
   "metadata": {},
   "outputs": [
    {
     "data": {
      "text/plain": [
       "array([ 1.34985881, 18.17414537, 54.59815003])"
      ]
     },
     "execution_count": 17,
     "metadata": {},
     "output_type": "execute_result"
    }
   ],
   "source": [
    "import numpy as np\n",
    "a = np.array([0.3, 2.9, 4.0])\n",
    "# 指数関数\n",
    "exp_a = np.exp(a)\n",
    "exp_a"
   ]
  },
  {
   "cell_type": "code",
   "execution_count": 18,
   "metadata": {},
   "outputs": [
    {
     "data": {
      "text/plain": [
       "74.1221542101633"
      ]
     },
     "execution_count": 18,
     "metadata": {},
     "output_type": "execute_result"
    }
   ],
   "source": [
    "sum_exp_a = np.sum(exp_a)\n",
    "sum_exp_a"
   ]
  },
  {
   "cell_type": "code",
   "execution_count": 19,
   "metadata": {},
   "outputs": [
    {
     "data": {
      "text/plain": [
       "array([0.01821127, 0.24519181, 0.73659691])"
      ]
     },
     "execution_count": 19,
     "metadata": {},
     "output_type": "execute_result"
    }
   ],
   "source": [
    "y = exp_a / sum_exp_a\n",
    "y"
   ]
  },
  {
   "cell_type": "code",
   "execution_count": 20,
   "metadata": {},
   "outputs": [],
   "source": [
    "def softmax(a):\n",
    "    exp_a = np.exp(a)\n",
    "    sum_exp_a = np.sum(exp_a)\n",
    "    y = exp_a / sum_exp_a\n",
    "    return y"
   ]
  },
  {
   "cell_type": "markdown",
   "metadata": {},
   "source": [
    "- ソフトマックス関数の実装では指数関数の計算を行う\n",
    "\n",
    "- 指数関数が容易に大きな値になりうる\n",
    "\n",
    "- 大きな値同士で除算すると数値が不安定な結果になる\n",
    "\n",
    "  - NaNになる"
   ]
  },
  {
   "cell_type": "code",
   "execution_count": 21,
   "metadata": {},
   "outputs": [
    {
     "name": "stderr",
     "output_type": "stream",
     "text": [
      "/Users/nao/Python/env/DLfromScratch/lib/python3.6/site-packages/ipykernel_launcher.py:4: RuntimeWarning: overflow encountered in exp\n",
      "  after removing the cwd from sys.path.\n",
      "/Users/nao/Python/env/DLfromScratch/lib/python3.6/site-packages/ipykernel_launcher.py:4: RuntimeWarning: invalid value encountered in true_divide\n",
      "  after removing the cwd from sys.path.\n"
     ]
    },
    {
     "data": {
      "text/plain": [
       "array([nan, nan, nan])"
      ]
     },
     "execution_count": 21,
     "metadata": {},
     "output_type": "execute_result"
    }
   ],
   "source": [
    "import numpy as np\n",
    "\n",
    "a = np.array([1010, 1000, 990])\n",
    "np.exp(a)/np.sum(np.exp(a))"
   ]
  },
  {
   "cell_type": "markdown",
   "metadata": {},
   "source": [
    "### ソフトマックス関数の実装の改善\n",
    "\n",
    "\\begin{equation}\n",
    "y_{k} = \\cfrac{exp(a_{k})}{\\sum_{i=1}^{n} + exp(a_{i})}\n",
    "\\end{equation}\n",
    "\n",
    "\\begin{equation}\n",
    "= \\cfrac{Cexp(a_{k})}{C\\sum_{i=1}^{n}exp(a_{i})}\n",
    "\\end{equation}\n",
    "\n",
    "\\begin{equation}\n",
    "= \\cfrac{exp(a_{k} + logC)}{\\sum_{i=1}^{n}exp(a_{i} + logC)}\n",
    "\\end{equation}\n",
    "\n",
    "\\begin{equation}\n",
    "= \\cfrac{exp(a_{k} + C{'})}{\\sum_{i=1}^{n}exp(a_{i} + C{'})}\n",
    "\\end{equation}\n",
    "\n",
    "- ソフトマックスの指数計算のときに、何らかの定数を加算・減算しても結果は変わらないことを利用している。\n",
    "\n",
    "- オーバーフロー対策として、入力信号の最大値を用いるのが一般的。"
   ]
  },
  {
   "cell_type": "code",
   "execution_count": 22,
   "metadata": {},
   "outputs": [
    {
     "data": {
      "text/plain": [
       "array([  0, -10, -20])"
      ]
     },
     "execution_count": 22,
     "metadata": {},
     "output_type": "execute_result"
    }
   ],
   "source": [
    "c = np.max(a)\n",
    "a - c"
   ]
  },
  {
   "cell_type": "code",
   "execution_count": 23,
   "metadata": {},
   "outputs": [
    {
     "data": {
      "text/plain": [
       "array([9.99954600e-01, 4.53978686e-05, 2.06106005e-09])"
      ]
     },
     "execution_count": 23,
     "metadata": {},
     "output_type": "execute_result"
    }
   ],
   "source": [
    "np.exp(a - c)/np.sum(np.exp(a - c))"
   ]
  },
  {
   "cell_type": "markdown",
   "metadata": {},
   "source": [
    "さきほど実装したソフトマックス関数を改善する"
   ]
  },
  {
   "cell_type": "code",
   "execution_count": 24,
   "metadata": {},
   "outputs": [],
   "source": [
    "def softmax(a):\n",
    "    c = np.max(a)\n",
    "    # オーバーフロー対策\n",
    "    exp_a = np.exp(a-c)\n",
    "    sum_exp_a = np.sum(exp_a)\n",
    "    y = exp_a / sum_exp_a\n",
    "    return y"
   ]
  },
  {
   "cell_type": "code",
   "execution_count": 25,
   "metadata": {},
   "outputs": [
    {
     "data": {
      "text/plain": [
       "array([0.01821127, 0.24519181, 0.73659691])"
      ]
     },
     "execution_count": 25,
     "metadata": {},
     "output_type": "execute_result"
    }
   ],
   "source": [
    "import numpy as np\n",
    "\n",
    "a = np.array([0.3, 2.9, 4.0])\n",
    "y = softmax(a)\n",
    "y"
   ]
  },
  {
   "cell_type": "code",
   "execution_count": 26,
   "metadata": {},
   "outputs": [
    {
     "data": {
      "text/plain": [
       "1.0"
      ]
     },
     "execution_count": 26,
     "metadata": {},
     "output_type": "execute_result"
    }
   ],
   "source": [
    "np.sum(y)"
   ]
  },
  {
   "cell_type": "markdown",
   "metadata": {},
   "source": [
    "- ソフトマックス関数では出力の総和が1になる\n",
    "\n",
    "  - 「確率」として解釈できる\n",
    "  \n",
    "上の例では、\n",
    "\n",
    "```\n",
    "y[0]の確率が0.018, y[1]の確率が0.245, y[2]の確率が0.737\n",
    "```\n",
    "\n",
    "のように解釈できる\n",
    "\n",
    "- ニューラルネットワークのクラス分類では一般的に出力の一番大きいニューロンに相当するクラスのみ出力する\n",
    "\n",
    "- ソフトマックス関数を適用しても出力の大きいニューロンの場所は変わらない\n",
    "\n",
    "- 出力層ではソフトマックス関数を省略できる"
   ]
  },
  {
   "cell_type": "markdown",
   "metadata": {},
   "source": [
    "### 出力層のニューロンの数\n",
    "\n",
    "- クラス分類の問題では、分類したいクラスの数に設定するのが一般的\n",
    "\n",
    "  - 入力された画像が数字の0~9のどれかを予測する問題では、出力層のニューロンは１０個に設定する\n",
    "  \n",
    "### 手書き数字認識\n",
    "\n",
    "- 学習済みパラメータを使って、ニューラルネットワークの推論処理だけを実装する\n",
    "\n",
    "    - ニューラルネットワークの順方向伝播(forward propagation)と呼ぶ\n",
    "\n",
    "- MNISTという手書き数字のデータセットを用いる\n",
    "\n",
    "    - 訓練画像60,000枚・テスト画像10,000枚\n",
    "\n",
    "    - 28*28のグレー画像。各ピクセルは0から255までの値を取る\n",
    "    \n",
    "    - それぞれの画像には7, 2, 1といったように対応したラベルが与えられている"
   ]
  },
  {
   "cell_type": "code",
   "execution_count": 27,
   "metadata": {},
   "outputs": [],
   "source": [
    "from dataset.mnist import load_mnist\n",
    "\n",
    "# (訓練画像, 訓練ラベル), (テスト画像, テストラベル)\n",
    "(x_train, t_train), (x_test, t_test) = load_mnist(flatten=True, normalize=False)"
   ]
  },
  {
   "cell_type": "code",
   "execution_count": 28,
   "metadata": {},
   "outputs": [
    {
     "data": {
      "text/plain": [
       "(60000, 784)"
      ]
     },
     "execution_count": 28,
     "metadata": {},
     "output_type": "execute_result"
    }
   ],
   "source": [
    "x_train.shape"
   ]
  },
  {
   "cell_type": "code",
   "execution_count": 29,
   "metadata": {},
   "outputs": [
    {
     "data": {
      "text/plain": [
       "(60000,)"
      ]
     },
     "execution_count": 29,
     "metadata": {},
     "output_type": "execute_result"
    }
   ],
   "source": [
    "t_train.shape"
   ]
  },
  {
   "cell_type": "code",
   "execution_count": 30,
   "metadata": {},
   "outputs": [
    {
     "data": {
      "text/plain": [
       "(10000, 784)"
      ]
     },
     "execution_count": 30,
     "metadata": {},
     "output_type": "execute_result"
    }
   ],
   "source": [
    "x_test.shape"
   ]
  },
  {
   "cell_type": "code",
   "execution_count": 31,
   "metadata": {},
   "outputs": [
    {
     "data": {
      "text/plain": [
       "(10000,)"
      ]
     },
     "execution_count": 31,
     "metadata": {},
     "output_type": "execute_result"
    }
   ],
   "source": [
    "t_test.shape"
   ]
  },
  {
   "cell_type": "markdown",
   "metadata": {},
   "source": [
    "#### MNIST画像を表示してみる"
   ]
  },
  {
   "cell_type": "code",
   "execution_count": 32,
   "metadata": {},
   "outputs": [
    {
     "name": "stdout",
     "output_type": "stream",
     "text": [
      "5\n",
      "(784,)\n"
     ]
    }
   ],
   "source": [
    "import numpy as np\n",
    "from dataset.mnist import load_mnist\n",
    "from PIL import Image\n",
    "\n",
    "def img_show(img):\n",
    "    pil_img = Image.fromarray(np.uint8(img))\n",
    "    pil_img.show()\n",
    "    \n",
    "(x_train, t_train), (x_test, t_test) = load_mnist(flatten=True, normalize=False)\n",
    "img = x_train[0]\n",
    "label = t_train[0]\n",
    "print(label)\n",
    "\n",
    "print(img.shape)\n",
    "\n",
    "# flatten=Trueで読み込まれた1次元データを28*28に再変形する\n",
    "img = img.reshape(28, 28)\n",
    "\n",
    "img_show(img)"
   ]
  },
  {
   "cell_type": "markdown",
   "metadata": {},
   "source": [
    "### ニューラルネットワークの推論処理\n",
    "\n",
    "- MNISTデータセットに対して推論処理を行うニューラルネットワークを実装する\n",
    "\n",
    "- 入力層を784個, 出力層を10個のニューロンで構成する\n",
    "\n",
    "  - 784個: ラベルの数\n",
    "  \n",
    "  - 10個: 0 ~ 9のどの数字にあたるか\n",
    "  \n",
    "- 10クラス分類\n",
    "\n",
    "- 2つの隠れ層\n",
    "\n",
    "    1. 50個のニューロン\n",
    "    \n",
    "    2. 100個のニューロン\n",
    "    \n",
    "- 各隠れ層のニューロンの数は任意の値に設定できる"
   ]
  },
  {
   "cell_type": "code",
   "execution_count": 33,
   "metadata": {},
   "outputs": [
    {
     "name": "stdout",
     "output_type": "stream",
     "text": [
      "Accuracy: 0.9352\n"
     ]
    }
   ],
   "source": [
    "import pickle\n",
    "\n",
    "import numpy as np\n",
    "\n",
    "from dataset.mnist import load_mnist\n",
    "\n",
    "def get_data():\n",
    "    \"\"\"\n",
    "    テスト画像・テストラベルを取得する\n",
    "    \"\"\"\n",
    "    (x_train, t_train), (x_test, t_test) = load_mnist(normalize=True, flatten=True, one_hot_label=False)\n",
    "    return x_test, t_test\n",
    "\n",
    "def init_network():\n",
    "    with open('dataset/sample_weight.pkl', 'rb') as f:\n",
    "        network = pickle.load(f)\n",
    "    return network\n",
    "\n",
    "def sigmoid(x):\n",
    "    return 1/(1+np.exp(-x))\n",
    "\n",
    "def softmax(a):\n",
    "    c = np.max(a)\n",
    "    # オーバーフロー対策\n",
    "    exp_a = np.exp(a-c)\n",
    "    sum_exp_a = np.sum(exp_a)\n",
    "    y = exp_a / sum_exp_a\n",
    "    return y\n",
    "        \n",
    "def predict(network, x):\n",
    "    w1, w2, w3 = network['W1'], network['W2'], network['W3']\n",
    "    b1, b2, b3 = network['b1'], network['b2'], network['b3']\n",
    "    \n",
    "    a1 = np.dot(x, w1) + b1\n",
    "    z1 = sigmoid(a1)\n",
    "    a2 = np.dot(z1, w2) + b2\n",
    "    z2 = sigmoid(a2)\n",
    "    a3 = np.dot(z2, w3) + b3\n",
    "    y = softmax(a3)\n",
    "    \n",
    "    return y\n",
    "\n",
    "\n",
    "x, t = get_data()\n",
    "network = init_network()\n",
    "\n",
    "accuracy_cnt = 0\n",
    "for i in range(len(x)):\n",
    "    y = predict(network, x[i])\n",
    "    # 最も確率の高い要素のインデックスを取得\n",
    "    p = np.argmax(y)\n",
    "    \n",
    "    if p == t[i]:\n",
    "        accuracy_cnt += 1\n",
    "\n",
    "print(\"Accuracy: {}\".format(float(accuracy_cnt)/len(x)))"
   ]
  },
  {
   "cell_type": "code",
   "execution_count": null,
   "metadata": {},
   "outputs": [],
   "source": []
  }
 ],
 "metadata": {
  "kernelspec": {
   "display_name": "Python 3",
   "language": "python",
   "name": "python3"
  },
  "language_info": {
   "codemirror_mode": {
    "name": "ipython",
    "version": 3
   },
   "file_extension": ".py",
   "mimetype": "text/x-python",
   "name": "python",
   "nbconvert_exporter": "python",
   "pygments_lexer": "ipython3",
   "version": "3.6.2"
  }
 },
 "nbformat": 4,
 "nbformat_minor": 2
}
